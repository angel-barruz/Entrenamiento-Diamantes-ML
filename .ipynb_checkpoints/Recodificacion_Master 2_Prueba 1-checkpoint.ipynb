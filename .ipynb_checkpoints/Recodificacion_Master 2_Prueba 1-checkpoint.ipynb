{
 "cells": [
  {
   "cell_type": "code",
   "execution_count": 12,
   "id": "d7420f0d",
   "metadata": {},
   "outputs": [],
   "source": [
    "# Librerías\n",
    "\n",
    "import numpy as np\n",
    "import pandas as pd\n",
    "import matplotlib.pyplot as plt\n",
    "import seaborn as sns\n",
    "\n",
    "from sklearn import datasets\n",
    "from sklearn.datasets import make_regression\n",
    "from sklearn.model_selection import train_test_split\n",
    "import pickle\n",
    "import joblib\n",
    "\n",
    "from sklearn import linear_model\n",
    "from sklearn.linear_model import ElasticNet\n",
    "from sklearn.linear_model import Ridge\n",
    "from sklearn.svm import SVR\n",
    "from sklearn.linear_model import SGDRegressor\n",
    "from sklearn.linear_model import LinearRegression\n",
    "from sklearn.ensemble import RandomForestRegressor\n",
    "from sklearn.tree import DecisionTreeRegressor\n",
    "\n",
    "from sklearn.metrics import mean_squared_error\n",
    "\n",
    "from sklearn.preprocessing import StandardScaler\n",
    "from sklearn.preprocessing import MinMaxScaler\n",
    "from sklearn.preprocessing import RobustScaler\n",
    "\n",
    "from sklearn import preprocessing\n"
   ]
  },
  {
   "cell_type": "code",
   "execution_count": 13,
   "id": "03f80277",
   "metadata": {
    "scrolled": true
   },
   "outputs": [
    {
     "data": {
      "text/html": [
       "<div>\n",
       "<style scoped>\n",
       "    .dataframe tbody tr th:only-of-type {\n",
       "        vertical-align: middle;\n",
       "    }\n",
       "\n",
       "    .dataframe tbody tr th {\n",
       "        vertical-align: top;\n",
       "    }\n",
       "\n",
       "    .dataframe thead th {\n",
       "        text-align: right;\n",
       "    }\n",
       "</style>\n",
       "<table border=\"1\" class=\"dataframe\">\n",
       "  <thead>\n",
       "    <tr style=\"text-align: right;\">\n",
       "      <th></th>\n",
       "      <th>index_id</th>\n",
       "      <th>depth</th>\n",
       "      <th>table</th>\n",
       "      <th>x</th>\n",
       "      <th>y</th>\n",
       "      <th>z</th>\n",
       "      <th>color</th>\n",
       "      <th>clarity</th>\n",
       "      <th>city</th>\n",
       "      <th>cut</th>\n",
       "      <th>carat</th>\n",
       "      <th>price</th>\n",
       "    </tr>\n",
       "  </thead>\n",
       "  <tbody>\n",
       "    <tr>\n",
       "      <th>0</th>\n",
       "      <td>5feceb66ffc86f38d952786c6d696c79c2dbc239dd4e91...</td>\n",
       "      <td>62.4</td>\n",
       "      <td>58.0</td>\n",
       "      <td>6.83</td>\n",
       "      <td>6.79</td>\n",
       "      <td>4.25</td>\n",
       "      <td>J</td>\n",
       "      <td>VS2</td>\n",
       "      <td>Kimberly</td>\n",
       "      <td>Premium</td>\n",
       "      <td>1.21</td>\n",
       "      <td>4268</td>\n",
       "    </tr>\n",
       "    <tr>\n",
       "      <th>1</th>\n",
       "      <td>6b86b273ff34fce19d6b804eff5a3f5747ada4eaa22f1d...</td>\n",
       "      <td>63.0</td>\n",
       "      <td>57.0</td>\n",
       "      <td>4.35</td>\n",
       "      <td>4.38</td>\n",
       "      <td>2.75</td>\n",
       "      <td>H</td>\n",
       "      <td>VS2</td>\n",
       "      <td>Antwerp</td>\n",
       "      <td>Very Good</td>\n",
       "      <td>0.32</td>\n",
       "      <td>505</td>\n",
       "    </tr>\n",
       "    <tr>\n",
       "      <th>2</th>\n",
       "      <td>d4735e3a265e16eee03f59718b9b5d03019c07d8b6c51f...</td>\n",
       "      <td>65.5</td>\n",
       "      <td>55.0</td>\n",
       "      <td>5.62</td>\n",
       "      <td>5.53</td>\n",
       "      <td>3.65</td>\n",
       "      <td>G</td>\n",
       "      <td>VS1</td>\n",
       "      <td>London</td>\n",
       "      <td>Fair</td>\n",
       "      <td>0.71</td>\n",
       "      <td>2686</td>\n",
       "    </tr>\n",
       "    <tr>\n",
       "      <th>3</th>\n",
       "      <td>4e07408562bedb8b60ce05c1decfe3ad16b72230967de0...</td>\n",
       "      <td>63.8</td>\n",
       "      <td>56.0</td>\n",
       "      <td>4.68</td>\n",
       "      <td>4.72</td>\n",
       "      <td>3.00</td>\n",
       "      <td>D</td>\n",
       "      <td>SI1</td>\n",
       "      <td>New York City</td>\n",
       "      <td>Good</td>\n",
       "      <td>0.41</td>\n",
       "      <td>738</td>\n",
       "    </tr>\n",
       "    <tr>\n",
       "      <th>4</th>\n",
       "      <td>4b227777d4dd1fc61c6f884f48641d02b4d121d3fd328c...</td>\n",
       "      <td>60.5</td>\n",
       "      <td>59.0</td>\n",
       "      <td>6.55</td>\n",
       "      <td>6.51</td>\n",
       "      <td>3.95</td>\n",
       "      <td>G</td>\n",
       "      <td>SI1</td>\n",
       "      <td>Dubai</td>\n",
       "      <td>Ideal</td>\n",
       "      <td>1.02</td>\n",
       "      <td>4882</td>\n",
       "    </tr>\n",
       "    <tr>\n",
       "      <th>...</th>\n",
       "      <td>...</td>\n",
       "      <td>...</td>\n",
       "      <td>...</td>\n",
       "      <td>...</td>\n",
       "      <td>...</td>\n",
       "      <td>...</td>\n",
       "      <td>...</td>\n",
       "      <td>...</td>\n",
       "      <td>...</td>\n",
       "      <td>...</td>\n",
       "      <td>...</td>\n",
       "      <td>...</td>\n",
       "    </tr>\n",
       "    <tr>\n",
       "      <th>40450</th>\n",
       "      <td>f0bc79169405ebeb24e308055156b946ffd819db9b4f75...</td>\n",
       "      <td>62.7</td>\n",
       "      <td>57.0</td>\n",
       "      <td>7.10</td>\n",
       "      <td>7.04</td>\n",
       "      <td>4.43</td>\n",
       "      <td>G</td>\n",
       "      <td>VS1</td>\n",
       "      <td>New York City</td>\n",
       "      <td>Ideal</td>\n",
       "      <td>1.34</td>\n",
       "      <td>10070</td>\n",
       "    </tr>\n",
       "    <tr>\n",
       "      <th>40451</th>\n",
       "      <td>339916a23bf22b052b54cb2a9b36ee8418c1c68b46acad...</td>\n",
       "      <td>57.1</td>\n",
       "      <td>60.0</td>\n",
       "      <td>8.31</td>\n",
       "      <td>8.25</td>\n",
       "      <td>4.73</td>\n",
       "      <td>F</td>\n",
       "      <td>SI2</td>\n",
       "      <td>Zurich</td>\n",
       "      <td>Good</td>\n",
       "      <td>2.02</td>\n",
       "      <td>12615</td>\n",
       "    </tr>\n",
       "    <tr>\n",
       "      <th>40452</th>\n",
       "      <td>46957922b99954654c1deb8d854c3f069bf118b2ce9415...</td>\n",
       "      <td>62.7</td>\n",
       "      <td>56.0</td>\n",
       "      <td>6.37</td>\n",
       "      <td>6.42</td>\n",
       "      <td>4.01</td>\n",
       "      <td>H</td>\n",
       "      <td>SI1</td>\n",
       "      <td>Tel Aviv</td>\n",
       "      <td>Ideal</td>\n",
       "      <td>1.01</td>\n",
       "      <td>5457</td>\n",
       "    </tr>\n",
       "    <tr>\n",
       "      <th>40453</th>\n",
       "      <td>9d733392d362d5c6f1d9b9659b601c7d4b5a1c1c8df579...</td>\n",
       "      <td>61.9</td>\n",
       "      <td>54.3</td>\n",
       "      <td>4.45</td>\n",
       "      <td>4.47</td>\n",
       "      <td>2.76</td>\n",
       "      <td>J</td>\n",
       "      <td>VS1</td>\n",
       "      <td>Paris</td>\n",
       "      <td>Ideal</td>\n",
       "      <td>0.33</td>\n",
       "      <td>456</td>\n",
       "    </tr>\n",
       "    <tr>\n",
       "      <th>40454</th>\n",
       "      <td>a02744a70faa594d240b067f21fcc23a8d17cd1098a9fb...</td>\n",
       "      <td>62.0</td>\n",
       "      <td>58.0</td>\n",
       "      <td>6.83</td>\n",
       "      <td>6.88</td>\n",
       "      <td>4.25</td>\n",
       "      <td>I</td>\n",
       "      <td>SI1</td>\n",
       "      <td>Antwerp</td>\n",
       "      <td>Ideal</td>\n",
       "      <td>1.24</td>\n",
       "      <td>6232</td>\n",
       "    </tr>\n",
       "  </tbody>\n",
       "</table>\n",
       "<p>40455 rows × 12 columns</p>\n",
       "</div>"
      ],
      "text/plain": [
       "                                                index_id  depth  table     x  \\\n",
       "0      5feceb66ffc86f38d952786c6d696c79c2dbc239dd4e91...   62.4   58.0  6.83   \n",
       "1      6b86b273ff34fce19d6b804eff5a3f5747ada4eaa22f1d...   63.0   57.0  4.35   \n",
       "2      d4735e3a265e16eee03f59718b9b5d03019c07d8b6c51f...   65.5   55.0  5.62   \n",
       "3      4e07408562bedb8b60ce05c1decfe3ad16b72230967de0...   63.8   56.0  4.68   \n",
       "4      4b227777d4dd1fc61c6f884f48641d02b4d121d3fd328c...   60.5   59.0  6.55   \n",
       "...                                                  ...    ...    ...   ...   \n",
       "40450  f0bc79169405ebeb24e308055156b946ffd819db9b4f75...   62.7   57.0  7.10   \n",
       "40451  339916a23bf22b052b54cb2a9b36ee8418c1c68b46acad...   57.1   60.0  8.31   \n",
       "40452  46957922b99954654c1deb8d854c3f069bf118b2ce9415...   62.7   56.0  6.37   \n",
       "40453  9d733392d362d5c6f1d9b9659b601c7d4b5a1c1c8df579...   61.9   54.3  4.45   \n",
       "40454  a02744a70faa594d240b067f21fcc23a8d17cd1098a9fb...   62.0   58.0  6.83   \n",
       "\n",
       "          y     z color clarity           city        cut  carat  price  \n",
       "0      6.79  4.25     J     VS2       Kimberly    Premium   1.21   4268  \n",
       "1      4.38  2.75     H     VS2        Antwerp  Very Good   0.32    505  \n",
       "2      5.53  3.65     G     VS1         London       Fair   0.71   2686  \n",
       "3      4.72  3.00     D     SI1  New York City       Good   0.41    738  \n",
       "4      6.51  3.95     G     SI1          Dubai      Ideal   1.02   4882  \n",
       "...     ...   ...   ...     ...            ...        ...    ...    ...  \n",
       "40450  7.04  4.43     G     VS1  New York City      Ideal   1.34  10070  \n",
       "40451  8.25  4.73     F     SI2         Zurich       Good   2.02  12615  \n",
       "40452  6.42  4.01     H     SI1       Tel Aviv      Ideal   1.01   5457  \n",
       "40453  4.47  2.76     J     VS1          Paris      Ideal   0.33    456  \n",
       "40454  6.88  4.25     I     SI1        Antwerp      Ideal   1.24   6232  \n",
       "\n",
       "[40455 rows x 12 columns]"
      ]
     },
     "execution_count": 13,
     "metadata": {},
     "output_type": "execute_result"
    }
   ],
   "source": [
    "# CSV EDA\n",
    "df=pd.read_csv('competi_kaggle.csv')\n",
    "df\n",
    " \n"
   ]
  },
  {
   "cell_type": "code",
   "execution_count": 14,
   "id": "6ce91e96",
   "metadata": {},
   "outputs": [],
   "source": [
    "#df ['price'] = df[\"price\"].astype(\"float64\")"
   ]
  },
  {
   "cell_type": "code",
   "execution_count": null,
   "id": "07ca9cb6",
   "metadata": {},
   "outputs": [],
   "source": []
  },
  {
   "cell_type": "code",
   "execution_count": 15,
   "id": "3eca1ad9",
   "metadata": {},
   "outputs": [],
   "source": [
    "# Volume\n",
    "#df['volume']=df['x']*df['y']*df['z']\n"
   ]
  },
  {
   "cell_type": "code",
   "execution_count": 16,
   "id": "5071e22b",
   "metadata": {},
   "outputs": [],
   "source": [
    "# Hypotetic Price\n",
    "#df['hp']=(df['x']*df['y']*df['z'])*df['carat']"
   ]
  },
  {
   "cell_type": "code",
   "execution_count": 17,
   "id": "35791c95",
   "metadata": {},
   "outputs": [
    {
     "name": "stdout",
     "output_type": "stream",
     "text": [
      "<class 'pandas.core.frame.DataFrame'>\n",
      "RangeIndex: 40455 entries, 0 to 40454\n",
      "Data columns (total 12 columns):\n",
      " #   Column    Non-Null Count  Dtype  \n",
      "---  ------    --------------  -----  \n",
      " 0   index_id  40455 non-null  object \n",
      " 1   depth     40455 non-null  float64\n",
      " 2   table     40455 non-null  float64\n",
      " 3   x         40455 non-null  float64\n",
      " 4   y         40455 non-null  float64\n",
      " 5   z         40455 non-null  float64\n",
      " 6   color     40455 non-null  object \n",
      " 7   clarity   40455 non-null  object \n",
      " 8   city      40455 non-null  object \n",
      " 9   cut       40455 non-null  object \n",
      " 10  carat     40455 non-null  float64\n",
      " 11  price     40455 non-null  int64  \n",
      "dtypes: float64(6), int64(1), object(5)\n",
      "memory usage: 3.7+ MB\n"
     ]
    }
   ],
   "source": [
    "df.info()"
   ]
  },
  {
   "cell_type": "code",
   "execution_count": 18,
   "id": "15902f85",
   "metadata": {},
   "outputs": [
    {
     "ename": "KeyError",
     "evalue": "\"['volume', 'hp'] not in index\"",
     "output_type": "error",
     "traceback": [
      "\u001b[1;31m---------------------------------------------------------------------------\u001b[0m",
      "\u001b[1;31mKeyError\u001b[0m                                  Traceback (most recent call last)",
      "Input \u001b[1;32mIn [18]\u001b[0m, in \u001b[0;36m<cell line: 1>\u001b[1;34m()\u001b[0m\n\u001b[1;32m----> 1\u001b[0m X \u001b[38;5;241m=\u001b[39m \u001b[43mdf\u001b[49m\u001b[43m[\u001b[49m\u001b[43m[\u001b[49m\u001b[38;5;124;43m'\u001b[39;49m\u001b[38;5;124;43mdepth\u001b[39;49m\u001b[38;5;124;43m'\u001b[39;49m\u001b[43m,\u001b[49m\u001b[43m \u001b[49m\u001b[38;5;124;43m'\u001b[39;49m\u001b[38;5;124;43mtable\u001b[39;49m\u001b[38;5;124;43m'\u001b[39;49m\u001b[43m,\u001b[49m\u001b[38;5;124;43m'\u001b[39;49m\u001b[38;5;124;43mcolor\u001b[39;49m\u001b[38;5;124;43m'\u001b[39;49m\u001b[43m,\u001b[49m\u001b[43m \u001b[49m\u001b[38;5;124;43m'\u001b[39;49m\u001b[38;5;124;43mclarity\u001b[39;49m\u001b[38;5;124;43m'\u001b[39;49m\u001b[43m,\u001b[49m\u001b[38;5;124;43m'\u001b[39;49m\u001b[38;5;124;43mx\u001b[39;49m\u001b[38;5;124;43m'\u001b[39;49m\u001b[43m,\u001b[49m\u001b[43m \u001b[49m\u001b[38;5;124;43m'\u001b[39;49m\u001b[38;5;124;43my\u001b[39;49m\u001b[38;5;124;43m'\u001b[39;49m\u001b[43m,\u001b[49m\u001b[43m \u001b[49m\u001b[38;5;124;43m'\u001b[39;49m\u001b[38;5;124;43mz\u001b[39;49m\u001b[38;5;124;43m'\u001b[39;49m\u001b[43m,\u001b[49m\u001b[43m  \u001b[49m\u001b[38;5;124;43m'\u001b[39;49m\u001b[38;5;124;43mcut\u001b[39;49m\u001b[38;5;124;43m'\u001b[39;49m\u001b[43m,\u001b[49m\u001b[43m \u001b[49m\u001b[38;5;124;43m'\u001b[39;49m\u001b[38;5;124;43mvolume\u001b[39;49m\u001b[38;5;124;43m'\u001b[39;49m\u001b[43m,\u001b[49m\u001b[38;5;124;43m'\u001b[39;49m\u001b[38;5;124;43mhp\u001b[39;49m\u001b[38;5;124;43m'\u001b[39;49m\u001b[43m,\u001b[49m\u001b[43m \u001b[49m\u001b[38;5;124;43m'\u001b[39;49m\u001b[38;5;124;43mcarat\u001b[39;49m\u001b[38;5;124;43m'\u001b[39;49m\u001b[43m]\u001b[49m\u001b[43m]\u001b[49m\n\u001b[0;32m      2\u001b[0m X\n",
      "File \u001b[1;32m~\\miniconda3\\envs\\M3_ih\\lib\\site-packages\\pandas\\core\\frame.py:3511\u001b[0m, in \u001b[0;36mDataFrame.__getitem__\u001b[1;34m(self, key)\u001b[0m\n\u001b[0;32m   3509\u001b[0m     \u001b[38;5;28;01mif\u001b[39;00m is_iterator(key):\n\u001b[0;32m   3510\u001b[0m         key \u001b[38;5;241m=\u001b[39m \u001b[38;5;28mlist\u001b[39m(key)\n\u001b[1;32m-> 3511\u001b[0m     indexer \u001b[38;5;241m=\u001b[39m \u001b[38;5;28;43mself\u001b[39;49m\u001b[38;5;241;43m.\u001b[39;49m\u001b[43mcolumns\u001b[49m\u001b[38;5;241;43m.\u001b[39;49m\u001b[43m_get_indexer_strict\u001b[49m\u001b[43m(\u001b[49m\u001b[43mkey\u001b[49m\u001b[43m,\u001b[49m\u001b[43m \u001b[49m\u001b[38;5;124;43m\"\u001b[39;49m\u001b[38;5;124;43mcolumns\u001b[39;49m\u001b[38;5;124;43m\"\u001b[39;49m\u001b[43m)\u001b[49m[\u001b[38;5;241m1\u001b[39m]\n\u001b[0;32m   3513\u001b[0m \u001b[38;5;66;03m# take() does not accept boolean indexers\u001b[39;00m\n\u001b[0;32m   3514\u001b[0m \u001b[38;5;28;01mif\u001b[39;00m \u001b[38;5;28mgetattr\u001b[39m(indexer, \u001b[38;5;124m\"\u001b[39m\u001b[38;5;124mdtype\u001b[39m\u001b[38;5;124m\"\u001b[39m, \u001b[38;5;28;01mNone\u001b[39;00m) \u001b[38;5;241m==\u001b[39m \u001b[38;5;28mbool\u001b[39m:\n",
      "File \u001b[1;32m~\\miniconda3\\envs\\M3_ih\\lib\\site-packages\\pandas\\core\\indexes\\base.py:5782\u001b[0m, in \u001b[0;36mIndex._get_indexer_strict\u001b[1;34m(self, key, axis_name)\u001b[0m\n\u001b[0;32m   5779\u001b[0m \u001b[38;5;28;01melse\u001b[39;00m:\n\u001b[0;32m   5780\u001b[0m     keyarr, indexer, new_indexer \u001b[38;5;241m=\u001b[39m \u001b[38;5;28mself\u001b[39m\u001b[38;5;241m.\u001b[39m_reindex_non_unique(keyarr)\n\u001b[1;32m-> 5782\u001b[0m \u001b[38;5;28;43mself\u001b[39;49m\u001b[38;5;241;43m.\u001b[39;49m\u001b[43m_raise_if_missing\u001b[49m\u001b[43m(\u001b[49m\u001b[43mkeyarr\u001b[49m\u001b[43m,\u001b[49m\u001b[43m \u001b[49m\u001b[43mindexer\u001b[49m\u001b[43m,\u001b[49m\u001b[43m \u001b[49m\u001b[43maxis_name\u001b[49m\u001b[43m)\u001b[49m\n\u001b[0;32m   5784\u001b[0m keyarr \u001b[38;5;241m=\u001b[39m \u001b[38;5;28mself\u001b[39m\u001b[38;5;241m.\u001b[39mtake(indexer)\n\u001b[0;32m   5785\u001b[0m \u001b[38;5;28;01mif\u001b[39;00m \u001b[38;5;28misinstance\u001b[39m(key, Index):\n\u001b[0;32m   5786\u001b[0m     \u001b[38;5;66;03m# GH 42790 - Preserve name from an Index\u001b[39;00m\n",
      "File \u001b[1;32m~\\miniconda3\\envs\\M3_ih\\lib\\site-packages\\pandas\\core\\indexes\\base.py:5845\u001b[0m, in \u001b[0;36mIndex._raise_if_missing\u001b[1;34m(self, key, indexer, axis_name)\u001b[0m\n\u001b[0;32m   5842\u001b[0m     \u001b[38;5;28;01mraise\u001b[39;00m \u001b[38;5;167;01mKeyError\u001b[39;00m(\u001b[38;5;124mf\u001b[39m\u001b[38;5;124m\"\u001b[39m\u001b[38;5;124mNone of [\u001b[39m\u001b[38;5;132;01m{\u001b[39;00mkey\u001b[38;5;132;01m}\u001b[39;00m\u001b[38;5;124m] are in the [\u001b[39m\u001b[38;5;132;01m{\u001b[39;00maxis_name\u001b[38;5;132;01m}\u001b[39;00m\u001b[38;5;124m]\u001b[39m\u001b[38;5;124m\"\u001b[39m)\n\u001b[0;32m   5844\u001b[0m not_found \u001b[38;5;241m=\u001b[39m \u001b[38;5;28mlist\u001b[39m(ensure_index(key)[missing_mask\u001b[38;5;241m.\u001b[39mnonzero()[\u001b[38;5;241m0\u001b[39m]]\u001b[38;5;241m.\u001b[39munique())\n\u001b[1;32m-> 5845\u001b[0m \u001b[38;5;28;01mraise\u001b[39;00m \u001b[38;5;167;01mKeyError\u001b[39;00m(\u001b[38;5;124mf\u001b[39m\u001b[38;5;124m\"\u001b[39m\u001b[38;5;132;01m{\u001b[39;00mnot_found\u001b[38;5;132;01m}\u001b[39;00m\u001b[38;5;124m not in index\u001b[39m\u001b[38;5;124m\"\u001b[39m)\n",
      "\u001b[1;31mKeyError\u001b[0m: \"['volume', 'hp'] not in index\""
     ]
    }
   ],
   "source": [
    "X = df[['depth', 'table','color', 'clarity','x', 'y', 'z',  'cut', 'volume','hp', 'carat']]\n",
    "X"
   ]
  },
  {
   "cell_type": "code",
   "execution_count": null,
   "id": "45ccc5dd",
   "metadata": {},
   "outputs": [],
   "source": []
  },
  {
   "cell_type": "code",
   "execution_count": null,
   "id": "962cf4a1",
   "metadata": {},
   "outputs": [],
   "source": [
    "y = df[['price']]\n",
    "y\n"
   ]
  },
  {
   "cell_type": "markdown",
   "id": "bb6eb2c6",
   "metadata": {},
   "source": [
    "## Encoding"
   ]
  },
  {
   "cell_type": "code",
   "execution_count": null,
   "id": "6bd43390",
   "metadata": {},
   "outputs": [],
   "source": [
    "# One hot encoding\n",
    "#cat_cols = [ 'color','clarity', 'cut' ]\n",
    "#df_one_hot = pd.get_dummies(X, columns=cat_cols, drop_first=True)\n",
    "#df_one_hot"
   ]
  },
  {
   "cell_type": "code",
   "execution_count": null,
   "id": "da027dcd",
   "metadata": {},
   "outputs": [],
   "source": [
    "# Label Encoding\n",
    "cat_cols = [ 'color','clarity', 'cut' ]\n",
    "cat_list = []\n",
    "for col in cat_cols:\n",
    "    cat = X[col].unique()\n",
    "    cat_num = len(cat)\n",
    "    cat_dict= {\"categorical_variable\":col,\n",
    "                \"number_of_possible_values\":cat_num,\n",
    "                \"values\":cat}\n",
    "    cat_list.append(cat_dict)\n",
    "    \n",
    "cat_df = pd.DataFrame(cat_list).sort_values(by=\"number_of_possible_values\",\n",
    "                                                ascending=False).reset_index(drop=True)\n",
    "cat_df"
   ]
  },
  {
   "cell_type": "code",
   "execution_count": null,
   "id": "3cfcecef",
   "metadata": {},
   "outputs": [],
   "source": [
    "encoding_clarity = {'VS2':1, 'VS1':2, 'SI1':3, ' SI2':4, 'IF':5, 'VVS1':6, 'VVS2':7, ' I1':8}\n",
    "#encoding = {'J':0,'H':1,'G':2, 'D':3, 'F':4, 'E':5, 'I':6 },\n",
    "#encofing = {'Premium':0, 'Very Good':1, 'Fair':2, 'Good':3, 'Ideal':4}\n",
    "def ordinal_encoding_clarity(x):\n",
    "    for key in encoding_clarity:\n",
    "        if x == key:\n",
    "            return encoding_clarity[key]"
   ]
  },
  {
   "cell_type": "code",
   "execution_count": 8,
   "id": "7bdad16a",
   "metadata": {},
   "outputs": [],
   "source": [
    "#encoding = {'VS2':1, 'VS1':2, 'SI1':3, ' SI2':4, 'IF':5, 'VVS1':6, 'VVS2':7, ' I1':8}\n",
    "encoding_color = {'J':1,'H':2,'G':3, 'D':4, 'F':5, 'E':6, 'I':7}\n",
    "#encoding = {'Premium':1, 'Very Good':1, 'Fair':2, 'Good':3, 'Ideal':4}\n",
    "def ordinal_encoding_color(x):\n",
    "    for key in encoding_color:\n",
    "        if x == key:\n",
    "            return encoding_color[key]"
   ]
  },
  {
   "cell_type": "code",
   "execution_count": 9,
   "id": "fbc07871",
   "metadata": {},
   "outputs": [],
   "source": [
    "#encoding = {'VS2':1, 'VS1':2, 'SI1':3, ' SI2':4, 'IF':5, 'VVS1':6, 'VVS2':7, ' I1':8}\n",
    "#encoding = {'J':0,'H':1,'G':2, 'D':3, 'F':4, 'E':5, 'I':6 }\n",
    "encoding_cut = {'Premium':1, 'Very Good':2, 'Fair':3, 'Good':4, 'Ideal':5}\n",
    "def ordinal_encoding_cut(x):\n",
    "    for key in encoding_cut:\n",
    "        if x == key:\n",
    "            return encoding_cut[key]"
   ]
  },
  {
   "cell_type": "code",
   "execution_count": 10,
   "id": "60fbb8e9",
   "metadata": {},
   "outputs": [
    {
     "ename": "NameError",
     "evalue": "name 'X' is not defined",
     "output_type": "error",
     "traceback": [
      "\u001b[1;31m---------------------------------------------------------------------------\u001b[0m",
      "\u001b[1;31mNameError\u001b[0m                                 Traceback (most recent call last)",
      "Input \u001b[1;32mIn [10]\u001b[0m, in \u001b[0;36m<cell line: 1>\u001b[1;34m()\u001b[0m\n\u001b[1;32m----> 1\u001b[0m X[\u001b[38;5;124m'\u001b[39m\u001b[38;5;124mnum_clarity\u001b[39m\u001b[38;5;124m'\u001b[39m]\u001b[38;5;241m=\u001b[39m\u001b[43mX\u001b[49m[\u001b[38;5;124m'\u001b[39m\u001b[38;5;124mclarity\u001b[39m\u001b[38;5;124m'\u001b[39m]\u001b[38;5;241m.\u001b[39mapply(ordinal_encoding_clarity)\n\u001b[0;32m      2\u001b[0m X[\u001b[38;5;124m'\u001b[39m\u001b[38;5;124mnum_color\u001b[39m\u001b[38;5;124m'\u001b[39m]\u001b[38;5;241m=\u001b[39mX[\u001b[38;5;124m'\u001b[39m\u001b[38;5;124mcolor\u001b[39m\u001b[38;5;124m'\u001b[39m]\u001b[38;5;241m.\u001b[39mapply(ordinal_encoding_color)\n\u001b[0;32m      3\u001b[0m X[\u001b[38;5;124m'\u001b[39m\u001b[38;5;124mnum_cut\u001b[39m\u001b[38;5;124m'\u001b[39m]\u001b[38;5;241m=\u001b[39mX[\u001b[38;5;124m'\u001b[39m\u001b[38;5;124mcut\u001b[39m\u001b[38;5;124m'\u001b[39m]\u001b[38;5;241m.\u001b[39mapply(ordinal_encoding_cut)\n",
      "\u001b[1;31mNameError\u001b[0m: name 'X' is not defined"
     ]
    }
   ],
   "source": [
    "X['num_clarity']=X['clarity'].apply(ordinal_encoding_clarity)\n",
    "X['num_color']=X['color'].apply(ordinal_encoding_color)\n",
    "X['num_cut']=X['cut'].apply(ordinal_encoding_cut)\n",
    "X\n",
    "\n",
    "#titanic_enconded['Embarked_num'] = titanic_enconded['Embarked'].apply(ordinal_encoding)\n",
    "#titanic_enconded"
   ]
  },
  {
   "cell_type": "code",
   "execution_count": 11,
   "id": "7a7a287e",
   "metadata": {},
   "outputs": [
    {
     "ename": "NameError",
     "evalue": "name 'X' is not defined",
     "output_type": "error",
     "traceback": [
      "\u001b[1;31m---------------------------------------------------------------------------\u001b[0m",
      "\u001b[1;31mNameError\u001b[0m                                 Traceback (most recent call last)",
      "Input \u001b[1;32mIn [11]\u001b[0m, in \u001b[0;36m<cell line: 1>\u001b[1;34m()\u001b[0m\n\u001b[1;32m----> 1\u001b[0m \u001b[43mX\u001b[49m\u001b[38;5;241m.\u001b[39mdropna(inplace\u001b[38;5;241m=\u001b[39m\u001b[38;5;28;01mTrue\u001b[39;00m)\n",
      "\u001b[1;31mNameError\u001b[0m: name 'X' is not defined"
     ]
    }
   ],
   "source": [
    "X.dropna(inplace=True)"
   ]
  },
  {
   "cell_type": "code",
   "execution_count": null,
   "id": "ce078677",
   "metadata": {},
   "outputs": [],
   "source": [
    "X.drop(['color','clarity','cut'], axis=1, inplace=True)"
   ]
  },
  {
   "cell_type": "code",
   "execution_count": null,
   "id": "196c731b",
   "metadata": {},
   "outputs": [],
   "source": [
    "X.info()"
   ]
  },
  {
   "cell_type": "markdown",
   "id": "f1fdb2fe",
   "metadata": {},
   "source": [
    "## Scaling"
   ]
  },
  {
   "cell_type": "code",
   "execution_count": null,
   "id": "c5314ef5",
   "metadata": {},
   "outputs": [],
   "source": [
    "# Scaling Standard\n",
    "scaler = StandardScaler()\n",
    "scaled_data = scaler.fit_transform(X)\n",
    "scaled_data\n",
    "\n",
    "#MinMax Scaler\n",
    "#scaler = MinMaxScaler()\n",
    "#scaled_data = scaler.fit_transform(df_one_hot[['depth', 'table','carat']])\n",
    "#scaled_data\n",
    "\n",
    "# Robust Scaling\n",
    "#scaler = RobustScaler()\n",
    "#scaled_data = scaler.fit_transform(df_one_hot[['depth', 'table','carat']])\n",
    "#scaled_data"
   ]
  },
  {
   "cell_type": "code",
   "execution_count": null,
   "id": "4ed72c3c",
   "metadata": {},
   "outputs": [],
   "source": [
    "df_X=pd.DataFrame(scaled_data)\n",
    "df_X"
   ]
  },
  {
   "cell_type": "code",
   "execution_count": null,
   "id": "fda46c19",
   "metadata": {},
   "outputs": [],
   "source": [
    "df_X.transpose()"
   ]
  },
  {
   "cell_type": "code",
   "execution_count": null,
   "id": "0047ee2b",
   "metadata": {},
   "outputs": [],
   "source": [
    "%%time\n",
    "\n",
    "# Model definition\n",
    "\n",
    "#model = LinearRegression()\n",
    "model = (RandomForestRegressor(bootstrap=True, random_state = 42))\n",
    "#model = linear_model.Lasso()\n",
    "#model = ElasticNet()\n",
    "#model = Ridge()\n",
    "#model = SVR()\n",
    "#model = SGDRegressor()\n",
    "#model = DecisionTreeRegressor()\n",
    "\n",
    "\n",
    "hyperparameters = model.get_params()\n",
    "\n",
    "\n",
    "\n",
    "print(type(model), '\\n')\n",
    "print('Model hyperparameters:', hyperparameters, '\\n')"
   ]
  },
  {
   "cell_type": "code",
   "execution_count": null,
   "id": "36455174",
   "metadata": {},
   "outputs": [],
   "source": [
    "%%time\n",
    "\n",
    "# Model training\n",
    "\n",
    "model.fit(df_X, y)\n",
    "#y_pred = model.predict(y)\n",
    "\n",
    "print('Model:', model, '\\n')\n",
    "print('Model hyperparameters:', hyperparameters, '\\n')\n",
    "#print('Model coefficients:', model.coef_, '\\n')\n",
    "#print('Ground truth target:', y_test, '\\n')\n",
    "#print('Ground truth target:', y_pred, '\\n')"
   ]
  },
  {
   "cell_type": "markdown",
   "id": "3c496ce1",
   "metadata": {},
   "source": [
    "## Mediciones"
   ]
  },
  {
   "cell_type": "code",
   "execution_count": null,
   "id": "a045bbac",
   "metadata": {
    "scrolled": true
   },
   "outputs": [],
   "source": [
    "# Train and test split\n",
    "\n",
    "X_train, X_test, y_train, y_test = train_test_split(df_X, y, test_size=0.2, random_state=42)\n",
    "print(f\"X_train: {X_train.shape}, X_test: {X_test.shape}, y_train: {y_train.shape}, y_test: {y_test.shape}\")"
   ]
  },
  {
   "cell_type": "code",
   "execution_count": null,
   "id": "d0005480",
   "metadata": {},
   "outputs": [],
   "source": [
    "y_pred = model.predict(X_test)"
   ]
  },
  {
   "cell_type": "code",
   "execution_count": null,
   "id": "4f132717",
   "metadata": {},
   "outputs": [],
   "source": [
    "# MSE calculation\n",
    "\n",
    "mean_squared_error(y_test, y_pred)"
   ]
  },
  {
   "cell_type": "code",
   "execution_count": null,
   "id": "6e75c527",
   "metadata": {},
   "outputs": [],
   "source": [
    "# RMSE calculation \n",
    "\n",
    "rmse = mean_squared_error(y_test, y_pred, squared=False)\n",
    "rmse"
   ]
  },
  {
   "cell_type": "code",
   "execution_count": null,
   "id": "f96a8aa0",
   "metadata": {},
   "outputs": [],
   "source": [
    "#Nota: 234"
   ]
  },
  {
   "cell_type": "code",
   "execution_count": null,
   "id": "06e56fae",
   "metadata": {},
   "outputs": [],
   "source": []
  },
  {
   "cell_type": "markdown",
   "id": "11dfddf1",
   "metadata": {},
   "source": [
    "## Visualitation"
   ]
  },
  {
   "cell_type": "code",
   "execution_count": null,
   "id": "e24c484c",
   "metadata": {},
   "outputs": [],
   "source": [
    "#plt.subplots(figsize = (10,8))\n",
    "#sns.heatmap(df_X, annot = True, cmap = \"Blues\")\n",
    "#plt.show()"
   ]
  },
  {
   "cell_type": "markdown",
   "id": "38045293",
   "metadata": {},
   "source": [
    "## Kaggle"
   ]
  },
  {
   "cell_type": "code",
   "execution_count": null,
   "id": "2792b987",
   "metadata": {},
   "outputs": [],
   "source": [
    "# CSV diamonds_test Kaggle\n",
    "df_K=pd.read_csv('./diamonds_test.csv')\n",
    "df_K"
   ]
  },
  {
   "cell_type": "code",
   "execution_count": null,
   "id": "c6cfa909",
   "metadata": {},
   "outputs": [],
   "source": [
    "X_K = df_K[['depth', 'table','color', 'clarity','x','y','z','cut']]\n",
    "X_K\n"
   ]
  },
  {
   "cell_type": "code",
   "execution_count": null,
   "id": "cb32ee90",
   "metadata": {},
   "outputs": [],
   "source": [
    "# One hot encoding\n",
    "cat_cols = [ 'color','clarity', 'cut' ]\n",
    "df_one_hot_K = pd.get_dummies(X_K, columns=cat_cols, drop_first=True)\n",
    "df_one_hot_K"
   ]
  },
  {
   "cell_type": "code",
   "execution_count": null,
   "id": "08f43ff1",
   "metadata": {},
   "outputs": [],
   "source": [
    "# Scaling columnas numéricas\n",
    "scaler = StandardScaler()\n",
    "scaled_data_K = scaler.fit_transform(df_one_hot_K)\n",
    "scaled_data_K"
   ]
  },
  {
   "cell_type": "code",
   "execution_count": null,
   "id": "763407b1",
   "metadata": {},
   "outputs": [],
   "source": [
    "df_X_K=pd.DataFrame(scaled_data_K)\n",
    "df_X_K"
   ]
  },
  {
   "cell_type": "code",
   "execution_count": null,
   "id": "204200c0",
   "metadata": {},
   "outputs": [],
   "source": [
    "# Model predictions\n",
    "\n",
    "#predictions = model.predict(df_Diamond_test)\n",
    "y_pred = model.predict(df_X_K)\n",
    "\n",
    "print(type(y_pred))"
   ]
  },
  {
   "cell_type": "code",
   "execution_count": null,
   "id": "79fc3089",
   "metadata": {},
   "outputs": [],
   "source": [
    "y_pred\n"
   ]
  },
  {
   "cell_type": "code",
   "execution_count": null,
   "id": "4253c034",
   "metadata": {},
   "outputs": [],
   "source": []
  },
  {
   "cell_type": "code",
   "execution_count": null,
   "id": "eddc5853",
   "metadata": {},
   "outputs": [],
   "source": [
    "df_predictions = pd.DataFrame(y_pred, columns=['price']).reset_index()\n",
    "df_predictions"
   ]
  },
  {
   "cell_type": "code",
   "execution_count": null,
   "id": "4c62e789",
   "metadata": {},
   "outputs": [],
   "source": [
    "df_predictions['id']=df_predictions.index\n",
    "df_predictions"
   ]
  },
  {
   "cell_type": "code",
   "execution_count": null,
   "id": "8b5d4b73",
   "metadata": {},
   "outputs": [],
   "source": [
    "df_predictions_d=df_predictions.drop('index', axis=1)\n",
    "df_predictions_d"
   ]
  },
  {
   "cell_type": "code",
   "execution_count": null,
   "id": "9dd4f885",
   "metadata": {},
   "outputs": [],
   "source": [
    "df_predictions_d.to_csv('train.csv', index=False)"
   ]
  },
  {
   "cell_type": "code",
   "execution_count": null,
   "id": "590b3629",
   "metadata": {},
   "outputs": [],
   "source": [
    "# Note: 1405 (train 14)\n"
   ]
  },
  {
   "cell_type": "code",
   "execution_count": null,
   "id": "6b9de368",
   "metadata": {},
   "outputs": [],
   "source": []
  }
 ],
 "metadata": {
  "kernelspec": {
   "display_name": "Python [conda env:M3_ih]",
   "language": "python",
   "name": "conda-env-M3_ih-py"
  },
  "language_info": {
   "codemirror_mode": {
    "name": "ipython",
    "version": 3
   },
   "file_extension": ".py",
   "mimetype": "text/x-python",
   "name": "python",
   "nbconvert_exporter": "python",
   "pygments_lexer": "ipython3",
   "version": "3.10.6"
  }
 },
 "nbformat": 4,
 "nbformat_minor": 5
}
